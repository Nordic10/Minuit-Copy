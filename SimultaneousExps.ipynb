{
 "cells": [
  {
   "cell_type": "code",
   "execution_count": 1,
   "id": "fa00cd38-f316-417a-9e98-454468dacf28",
   "metadata": {},
   "outputs": [
    {
     "name": "stdout",
     "output_type": "stream",
     "text": [
      "Welcome to JupyROOT 6.28/00\n"
     ]
    }
   ],
   "source": [
    "import ROOT as r"
   ]
  },
  {
   "cell_type": "markdown",
   "id": "0c4316d5-67e6-4f04-8533-d607882eac69",
   "metadata": {},
   "source": [
    "Extracting a signal from two datasets.\n",
    "---\n",
    "Below we simulate two experiments.\n",
    "\n",
    "Experiment1:\n",
    "- has a gaussian signal\n",
    "- and a falling background that goes as $exp^{-x/\\lambda}$\n",
    "\n",
    "Experinemt2:\n",
    "- has the same gaussian signal component\n",
    "- and a background that goes as $x^n$, where $n$<0"
   ]
  },
  {
   "cell_type": "code",
   "execution_count": 2,
   "id": "d4fad256-6aa1-410d-9a96-a642b84ecca1",
   "metadata": {},
   "outputs": [],
   "source": [
    "from random import random\n",
    "\n",
    "tfsig=r.TF1(\"tfsig\",\"exp(-0.5*(x-[0])*(x-[0])/[1]/[1])\",25,125)\n",
    "tfsig.SetParameters(75,4.5)\n",
    "\n",
    "def experiment1():\n",
    "    S_over_N = 0.08\n",
    "    ndata=2700\n",
    "    lam=20\n",
    "    range=(30,100)\n",
    "    background = r.TF1(\"back1\",\"exp(-x/[0])\",range[0],range[1])\n",
    "    background.SetParameters(lam)\n",
    "    hist = r.TH1F(\"hexp1\",\"Experiment1;x;frequency\",50,range[0],range[1])\n",
    "    nsig=int(ndata*S_over_N)\n",
    "    nbkg=ndata-nsig\n",
    "    hist.FillRandom(\"tfsig\",nsig)\n",
    "    hist.FillRandom(\"back1\",nbkg)\n",
    "    return hist\n",
    "\n",
    "def experiment2():\n",
    "    S_over_N = 0.12\n",
    "    ndata=2500   \n",
    "    n=-2.2\n",
    "    range=(50,100)\n",
    "    background = r.TF1(\"back2\",\"pow(x,[0])\",range[0],range[1])\n",
    "    background.SetParameters(n)\n",
    "    hist = r.TH1F(\"hexp2\",\"Experiment2;x;frequency\",50,range[0],range[1])\n",
    "    nsig=int(ndata*S_over_N)\n",
    "    nbkg=ndata-nsig\n",
    "    hist.FillRandom(\"tfsig\",nsig)\n",
    "    hist.FillRandom(\"back2\",nbkg)\n",
    "    return hist"
   ]
  },
  {
   "cell_type": "markdown",
   "id": "ad5a2fd3-03d7-4c61-9282-5f83a736a02f",
   "metadata": {},
   "source": [
    "Here we run the two experiments and get the results.  We will interpret these as follows:\n",
    "\n",
    "- The experiments are independent\n",
    "- They measure the same signal process\n",
    "- They have different backgrounds to the signal measurement"
   ]
  },
  {
   "cell_type": "code",
   "execution_count": 3,
   "id": "45308e83-1840-4a36-af4a-e1bfa8569f5b",
   "metadata": {},
   "outputs": [
    {
     "data": {
      "image/png": "[encoded data removed]",
      "text/plain": [
       "<IPython.core.display.Image object>"
      ]
     },
     "metadata": {},
     "output_type": "display_data"
    }
   ],
   "source": [
    "tc=r.TCanvas()\n",
    "tc.Divide(2,1)\n",
    "h1=experiment1()\n",
    "h2=experiment2()\n",
    "tc.cd(1)\n",
    "h1.Draw(\"e\")\n",
    "tc.cd(2)\n",
    "h2.Draw(\"e\")\n",
    "tc.Draw()"
   ]
  },
  {
   "cell_type": "markdown",
   "id": "39c06477-492e-4dca-9c16-eede34c4fb57",
   "metadata": {},
   "source": [
    "Here we save the results of the experiments:"
   ]
  },
  {
   "cell_type": "code",
   "execution_count": 4,
   "id": "1dec5e65-b298-4ff5-84a2-351ca4e57b60",
   "metadata": {},
   "outputs": [],
   "source": [
    "tf=r.TFile(\"experiments.root\",\"recreate\")\n",
    "h1.Write()\n",
    "h2.Write()\n",
    "tf.Close()"
   ]
  },
  {
   "cell_type": "markdown",
   "id": "98a85b08-0821-4812-b143-46485e704773",
   "metadata": {},
   "source": [
    "And here's an example of reading them back from the TFile\n",
    "\n",
    "Below we use DrawCopy instead of Draw, so we can clsoe the file (which deletes the histogram from memory) without deleting the drawing."
   ]
  },
  {
   "cell_type": "code",
   "execution_count": 7,
   "id": "edf584a5-853d-400e-901c-2570643e581c",
   "metadata": {},
   "outputs": [
    {
     "data": {
      "image/png": "[encoded data removed]",
      "text/plain": [
       "<IPython.core.display.Image object>"
      ]
     },
     "metadata": {},
     "output_type": "display_data"
    }
   ],
   "source": [
    "tf=r.TFile(\"experiments.root\")\n",
    "h1=tf.Get(\"hexp1\")\n",
    "h2=tf.Get(\"hexp2\")\n",
    "tc.cd(1)\n",
    "h1.DrawCopy(\"e\")\n",
    "tc.cd(2)\n",
    "h2.DrawCopy(\"e\")\n",
    "tc.Draw()\n",
    "tf.Close()"
   ]
  },
  {
   "cell_type": "markdown",
   "id": "43b34e77-04f7-4923-8439-57d985d767d3",
   "metadata": {},
   "source": [
    "You job for this project will be to develop a simultaneous fit for the two histograms using minuit.  See this week's exercise desscription for more details."
   ]
  },
  {
   "cell_type": "code",
   "execution_count": null,
   "id": "42640fc5-5d3f-47f5-b1fa-138461af1038",
   "metadata": {},
   "outputs": [],
   "source": []
  }
 ],
 "metadata": {
  "kernelspec": {
   "display_name": "Python 3 (ipykernel)",
   "language": "python",
   "name": "python3"
  },
  "language_info": {
   "codemirror_mode": {
    "name": "ipython",
    "version": 3
   },
   "file_extension": ".py",
   "mimetype": "text/x-python",
   "name": "python",
   "nbconvert_exporter": "python",
   "pygments_lexer": "ipython3",
   "version": "3.10.12"
  }
 },
 "nbformat": 4,
 "nbformat_minor": 5
}
